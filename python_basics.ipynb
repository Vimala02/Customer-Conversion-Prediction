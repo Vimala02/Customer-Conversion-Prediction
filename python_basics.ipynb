{
  "nbformat": 4,
  "nbformat_minor": 0,
  "metadata": {
    "colab": {
      "provenance": [],
      "authorship_tag": "ABX9TyOGUBEjGzTOA4R/3pnBReFB",
      "include_colab_link": true
    },
    "kernelspec": {
      "name": "python3",
      "display_name": "Python 3"
    },
    "language_info": {
      "name": "python"
    }
  },
  "cells": [
    {
      "cell_type": "markdown",
      "metadata": {
        "id": "view-in-github",
        "colab_type": "text"
      },
      "source": [
        "<a href=\"https://colab.research.google.com/github/Vimala02/Customer-Conversion-Prediction/blob/main/python_basics.ipynb\" target=\"_parent\"><img src=\"https://colab.research.google.com/assets/colab-badge.svg\" alt=\"Open In Colab\"/></a>"
      ]
    },
    {
      "cell_type": "code",
      "source": [
        "a = 3\n",
        "b = 5"
      ],
      "metadata": {
        "id": "0NuTBtcsBVJ2"
      },
      "execution_count": 4,
      "outputs": []
    },
    {
      "cell_type": "code",
      "execution_count": 5,
      "metadata": {
        "colab": {
          "base_uri": "https://localhost:8080/"
        },
        "id": "K3RtM8gCAMIW",
        "outputId": "2625734a-abe9-49ed-b2e6-d7c6e0456f82"
      },
      "outputs": [
        {
          "output_type": "stream",
          "name": "stdout",
          "text": [
            "5\n"
          ]
        }
      ],
      "source": [
        "##built-in max() function.\n",
        "print(max(a,b))"
      ]
    },
    {
      "cell_type": "code",
      "source": [
        "## Factorial of a num\n",
        "Factorial = 1\n",
        "for i in range(1,b+1):\n",
        "  Factorial *= i\n",
        "print(Factorial)"
      ],
      "metadata": {
        "colab": {
          "base_uri": "https://localhost:8080/"
        },
        "id": "WO81GbUGBUgO",
        "outputId": "70c2866b-fe00-4250-bfcf-c024ec08e7df"
      },
      "execution_count": 6,
      "outputs": [
        {
          "output_type": "stream",
          "name": "stdout",
          "text": [
            "120\n"
          ]
        }
      ]
    },
    {
      "cell_type": "code",
      "source": [
        "n = input('num:')"
      ],
      "metadata": {
        "colab": {
          "base_uri": "https://localhost:8080/"
        },
        "id": "IFP3NNccQsMk",
        "outputId": "eccf9742-cc46-4ba5-a682-01c673b49b5d"
      },
      "execution_count": 21,
      "outputs": [
        {
          "name": "stdout",
          "output_type": "stream",
          "text": [
            "num:12\n"
          ]
        }
      ]
    },
    {
      "cell_type": "code",
      "source": [
        "from logging import info\n",
        "##to check Armstrong Number\n",
        "# n = 153\n",
        "s = 0\n",
        "for i in str(n):\n",
        "  s += int(i)**(len(str(n)))\n",
        "if str(s) == n:\n",
        "  print('Armstong')\n",
        "else:\n",
        "  print('na')"
      ],
      "metadata": {
        "colab": {
          "base_uri": "https://localhost:8080/"
        },
        "id": "o99k5jJcMOs6",
        "outputId": "4f199f5c-2855-433b-b4cd-1628ef009d51"
      },
      "execution_count": 17,
      "outputs": [
        {
          "output_type": "stream",
          "name": "stdout",
          "text": [
            "num:153\n",
            "Armstong\n"
          ]
        }
      ]
    },
    {
      "cell_type": "code",
      "source": [
        "##prime number list\n",
        "def prime(x, y):\n",
        "    prime_list = []\n",
        "    for i in range(x, y):\n",
        "        if i == 0 or i == 1:\n",
        "            continue\n",
        "        else:\n",
        "            for j in range(2, int(i/2)+1):\n",
        "                if i % j == 0:\n",
        "                    break\n",
        "            else:\n",
        "                prime_list.append(i)\n",
        "    return prime_list\n",
        "starting_range = 2\n",
        "ending_range = 7\n",
        "lst = prime(starting_range, ending_range)\n",
        "if len(lst) == 0:\n",
        "    print(\"There are no prime numbers in this range\")\n",
        "else:\n",
        "    print(\"The prime numbers in this range are: \", lst)"
      ],
      "metadata": {
        "colab": {
          "base_uri": "https://localhost:8080/"
        },
        "id": "0LQaVq8YPl9q",
        "outputId": "267c1bb7-6535-4253-9cdc-4905de648eff"
      },
      "execution_count": 23,
      "outputs": [
        {
          "output_type": "stream",
          "name": "stdout",
          "text": [
            "The prime numbers in this range are:  [2, 3, 5]\n"
          ]
        }
      ]
    },
    {
      "cell_type": "code",
      "source": [
        "#n-th Fibonacci number Using Recursion\n",
        "#Fn = Fn-1 + Fn-2\n",
        "## non negative\n",
        "\n",
        "def fibo(n):\n",
        "  if n == 1:\n",
        "    return 0\n",
        "  elif n == 2:\n",
        "    return 1\n",
        "  else:\n",
        "    return fibo(n-1)+fibo(n-2)\n",
        "\n",
        "print(fibo(10))"
      ],
      "metadata": {
        "colab": {
          "base_uri": "https://localhost:8080/"
        },
        "id": "Fl_iDT5CBReG",
        "outputId": "146cceb6-d7be-4632-ff22-45d4fd75331f"
      },
      "execution_count": 31,
      "outputs": [
        {
          "output_type": "stream",
          "name": "stdout",
          "text": [
            "34\n"
          ]
        }
      ]
    },
    {
      "cell_type": "code",
      "source": [
        "##sum of Square and cube :\n",
        "n = 4\n",
        "s = 0\n",
        "c = 0\n",
        "for i in range(1,n+1):\n",
        "  s += i*i\n",
        "  c += i*i*i\n",
        "print(s,c)\n",
        "\n"
      ],
      "metadata": {
        "colab": {
          "base_uri": "https://localhost:8080/"
        },
        "id": "IUpxgez7RBuO",
        "outputId": "06a14cd2-0479-4e9c-f0e1-02ddd642e312"
      },
      "execution_count": 61,
      "outputs": [
        {
          "output_type": "stream",
          "name": "stdout",
          "text": [
            "30 100\n"
          ]
        }
      ]
    },
    {
      "cell_type": "code",
      "source": [
        "#if a String is Palindrome or symentrical\n",
        "#reverse of a string\n",
        "s = input()\n",
        "half = len(s)//2\n",
        "s1 = s[:half]\n",
        "s2 = s[half:]\n",
        "if s == s[::-1]:\n",
        "  print('palindrome')\n",
        "elif s1==s2:\n",
        "  print('symentrical')\n",
        "else:\n",
        "  print('na')\n"
      ],
      "metadata": {
        "colab": {
          "base_uri": "https://localhost:8080/"
        },
        "id": "-TvO-wblYdaA",
        "outputId": "9ac9ff06-bfa8-4c01-8223-90819109f2b8"
      },
      "execution_count": 66,
      "outputs": [
        {
          "output_type": "stream",
          "name": "stdout",
          "text": [
            "khokho\n",
            "symentrical\n"
          ]
        }
      ]
    },
    {
      "cell_type": "code",
      "source": [
        "a = [10, 20, 30, 40, 50]\n",
        "\n",
        "# Using a temporary variable\n",
        "# to swap elements at index 2 and 4\n",
        "temp = a[2]\n",
        "a[2] = a[4]\n",
        "a[4] = temp\n",
        "\n",
        "print(a)"
      ],
      "metadata": {
        "id": "JSpxV73LawaX"
      },
      "execution_count": null,
      "outputs": []
    }
  ]
}